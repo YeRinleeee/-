{
  "nbformat": 4,
  "nbformat_minor": 0,
  "metadata": {
    "colab": {
      "provenance": [],
      "authorship_tag": "ABX9TyOcR/F/FJfnmqUIEzB7CR4a",
      "include_colab_link": true
    },
    "kernelspec": {
      "name": "python3",
      "display_name": "Python 3"
    },
    "language_info": {
      "name": "python"
    }
  },
  "cells": [
    {
      "cell_type": "markdown",
      "metadata": {
        "id": "view-in-github",
        "colab_type": "text"
      },
      "source": [
        "<a href=\"https://colab.research.google.com/github/YeRinleeee/-/blob/main/CTAB.ipynb\" target=\"_parent\"><img src=\"https://colab.research.google.com/assets/colab-badge.svg\" alt=\"Open In Colab\"/></a>"
      ]
    },
    {
      "cell_type": "markdown",
      "source": [
        "4. 사용자로부터 2개의 정수를 받아서 합계를 출력하시오.\n",
        " - 정수 x\n",
        "  - 정수 y"
      ],
      "metadata": {
        "id": "eTwqHOD9UmaQ"
      }
    },
    {
      "cell_type": "code",
      "source": [
        "print(\"정수 2개를 입력하시오.: \") # \"정수 2개를 입력하시오.\"를 출력합니다.\n",
        "x = int(input('x의 값을 입력하시오.: ')) # 사용자로부터 x의 값을 입력받아 정수로 변환하여 x 변수에 저장합니다.\n",
        "y = int(input('y의 값을 입력하시오.: ')) # 사용자로부터 y의 값을 입력받아 정수로 변환하여 y 변수에 저장합니다.\n",
        "sum = x + y # x와 y의 합을 계산하여 sum 변수에 저장합니다.\n",
        "print(sum) # 합을 출력합니다.\n",
        "print(f'정수 {x} + 정수 {y}의 값은 {sum}이다.') # 정수 x와 정수 y의 합을 출력합니다.\n",
        "\n"
      ],
      "metadata": {
        "colab": {
          "base_uri": "https://localhost:8080/"
        },
        "id": "Ky-hSZ_aU9i8",
        "outputId": "0d68ce90-c7a6-4bbd-ba79-44f9b76cc4fa"
      },
      "execution_count": null,
      "outputs": [
        {
          "output_type": "stream",
          "name": "stdout",
          "text": [
            "정수 2개를 입력하시오.: \n",
            "x의 값을 입력하시오.: 7\n",
            "y의 값을 입력하시오.: 9\n",
            "16\n",
            "정수 7 + 정수 9의 값은 16이다.\n"
          ]
        }
      ]
    },
    {
      "cell_type": "markdown",
      "source": [
        "이 코드는 먼저 \"정수 2개를 입력하시오.\"를 출력합니다. 그 후, input() 함수를 사용하여 사용자로부터 x의 값을 입력받고, 이를 정수로 변환하여 x 변수에 저장합니다. 다음으로, input() 함수를 사용하여 사용자로부터 y의 값을 입력받고, 이를 정수로 변환하여 y 변수에 저장합니다. 그 다음, x와 y의 합을 계산하여 sum 변수에 저장합니다. 이후, print() 함수를 사용하여 합을 출력합니다. 마지막으로, 문자열 포맷팅을 활용하여 정수 x와 정수 y의 합을 출력합니다. 예를 들어, x에 3을 입력하고 y에 5를 입력한 경우, 출력 결과는 \"8\"과 \"정수 3 + 정수 5의 값은 8이다.\"가 됩니다."
      ],
      "metadata": {
        "id": "fA8XabDlXmPM"
      }
    },
    {
      "cell_type": "markdown",
      "source": [
        "5. 부가세를 계산하시오.\n",
        " - 상품의 가격 (price)\n",
        "  - 부가세 (vat)"
      ],
      "metadata": {
        "id": "uXXNetwGWPyf"
      }
    },
    {
      "cell_type": "code",
      "source": [
        "print(\"상품의 가격을 입력하시오.: \") # \"상품의 가격을 입력하시오.\"를 출력합니다.\n",
        "price = int(input('상품의 가격: ')) # 사용자로부터 상품의 가격을 입력받아 정수로 변환하여 price 변수에 저장합니다.\n",
        "vat = price * 0.1 # 가격에 대한 부가세를 계산하여 vat 변수에 저장합니다. (부가세율은 0.1로 가정)\n",
        "print(vat) # 부가세를 출력합니다.\n",
        "print(f'상품의 가격은 {price}이며, 부가세는 {vat}이다.') # 상품의 가격과 부가세를 출력합니다."
      ],
      "metadata": {
        "colab": {
          "base_uri": "https://localhost:8080/"
        },
        "id": "wARzkoAxWiuh",
        "outputId": "45f4ea2a-8b75-4d46-a147-4725f5395418"
      },
      "execution_count": null,
      "outputs": [
        {
          "output_type": "stream",
          "name": "stdout",
          "text": [
            "상품의 가격을 입력하시오.: \n",
            "상품의 가격: 10000\n",
            "1000.0\n",
            "상품의 가격은 10000이며, 부가세는 1000.0이다.\n"
          ]
        }
      ]
    },
    {
      "cell_type": "markdown",
      "source": [
        "이 코드는 먼저 \"상품의 가격을 입력하시오.\"를 출력합니다. 그 후, input() 함수를 사용하여 사용자로부터 상품의 가격을 입력받고, 이를 정수로 변환하여 price 변수에 저장합니다. 다음으로, price에 0.1을 곱하여 부가세를 계산하고 vat 변수에 저장합니다. 이후, print() 함수를 사용하여 부가세를 출력합니다. 마지막으로, 문자열 포맷팅을 활용하여 상품의 가격과 부가세를 출력합니다. 예를 들어, 상품의 가격으로 100을 입력한 경우, 출력 결과는 \"10.0\"과 \"상품의 가격은 100이며, 부가세는 10.0이다.\"가 됩니다. (부가세율은 0.1로 가정)"
      ],
      "metadata": {
        "id": "hmhI631xXrrc"
      }
    }
  ]
}