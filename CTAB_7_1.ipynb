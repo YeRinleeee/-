{
  "nbformat": 4,
  "nbformat_minor": 0,
  "metadata": {
    "colab": {
      "provenance": [],
      "authorship_tag": "ABX9TyP26atRT+fJnj9HGrNf6QRw",
      "include_colab_link": true
    },
    "kernelspec": {
      "name": "python3",
      "display_name": "Python 3"
    },
    "language_info": {
      "name": "python"
    }
  },
  "cells": [
    {
      "cell_type": "markdown",
      "metadata": {
        "id": "view-in-github",
        "colab_type": "text"
      },
      "source": [
        "<a href=\"https://colab.research.google.com/github/YeRinleeee/-/blob/main/CTAB_7_1.ipynb\" target=\"_parent\"><img src=\"https://colab.research.google.com/assets/colab-badge.svg\" alt=\"Open In Colab\"/></a>"
      ]
    },
    {
      "cell_type": "markdown",
      "source": [
        "1. 일한 시간과 시급을 계산하여 출력하는 코드\n",
        " - 일한시간(hours_worked)\n",
        " - 일한날짜(day_worked)\n",
        "  - 시급(pay_rate)\n",
        "   - 월급(monthly_pay)"
      ],
      "metadata": {
        "id": "b7gkkAvHnwgO"
      }
    },
    {
      "cell_type": "markdown",
      "source": [
        "코드는 사용자로부터 일한 시간, 시급, 일한 날짜를 입력받아 월급여를 계산하고 출력하는 예제입니다.\n",
        "\n",
        "hours_worked = int(input(\"일한 시간을 입력하시오.: \")): 사용자로부터 일한 시간을 입력받아 hours_worked 변수에 정수형으로 저장합니다.\n",
        "pay_rate = int(input(\"시급을 입력하시오.(23년 시급 9620): \")): 사용자로부터 시급을 입력받아 pay_rate 변수에 정수형으로 저장합니다.\n",
        "day_worked = int(input(\"일한 날짜를 입력하시오.: \")): 사용자로부터 일한 날짜를 입력받아 day_worked 변수에 정수형으로 저장합니다.\n",
        "day_month = hours_worked * day_worked: 하루에 일한 시간과 일한 날짜를 곱하여 총 근무 시간을 계산하여 day_month 변수에 저장합니다.\n",
        "monthly_pay = hours_worked * pay_rate * day_worked: 일한 시간, 시급, 일한 날짜를 곱하여 월급여를 계산하여 monthly_pay 변수에 저장합니다.\n",
        "print(f'일한시간은 {hours_worked}이며, 시급은 {pay_rate}원 이고, 월급여는 {monthly_pay}원 입니다.'): f-string을 사용하여 일한 시간, 시급, 월급여와 관련된 정보를 출력합니다."
      ],
      "metadata": {
        "id": "h014GeWR2hMO"
      }
    },
    {
      "cell_type": "code",
      "source": [
        "hours_worked = int(input(\"일한 시간을 입력하시오.: \"))  # 사용자로부터 일한 시간을 입력받아 hours_worked 변수에 저장합니다.\n",
        "pay_rate = int(input(\"시급을 입력하시오.(23년 시급 9620): \"))  # 사용자로부터 시급을 입력받아 pay_rate 변수에 저장합니다.\n",
        "day_worked = int(input(\"일한 날짜를 입력하시오.: \"))  # 사용자로부터 일한 날짜를 입력받아 day_worked 변수에 저장합니다.\n",
        "\n",
        "day_month = hours_worked * day_worked  # 하루에 일한 시간과 일한 날짜를 곱하여 총 근무 시간을 계산합니다.\n",
        "monthly_pay = hours_worked * pay_rate * day_worked  # 일한 시간, 시급, 일한 날짜를 곱하여 월급여를 계산합니다.\n",
        "\n",
        "print(f'일한시간은 {hours_worked}이며, 시급은 {pay_rate}원 이고, 월급여는 {monthly_pay}원 입니다.')  # 월급여와 관련된 정보를 출력합니다."
      ],
      "metadata": {
        "colab": {
          "base_uri": "https://localhost:8080/"
        },
        "id": "N3gNdl5lpD-E",
        "outputId": "488d0b83-63ff-4cd5-88a2-4fa8fbda7cff"
      },
      "execution_count": null,
      "outputs": [
        {
          "output_type": "stream",
          "name": "stdout",
          "text": [
            "일한 시간을 입력하시오.: 10\n",
            "시급을 입력하시오.(23년 시급 9620): 9620\n",
            "일한 날짜를 입력하시오.: 25\n",
            "일한시간은 10이며, 시급은 9620원 이고, 월급여는 2405000원 입니다.\n"
          ]
        }
      ]
    },
    {
      "cell_type": "markdown",
      "source": [
        "2. 환전하는 코드를 작성\n",
        " - 변수 won, usd, exchange\n",
        "  - 계산 won * used"
      ],
      "metadata": {
        "id": "ttqsxUNlumQG"
      }
    },
    {
      "cell_type": "code",
      "source": [
        "usd = int(input(\"환전할 달러를 입력: \"))\n",
        "won = int(input(\"달러의 환율금액 입력 (231031: 1372원)\"))\n",
        "exchange = won * usd\n",
        "print(f'환전하고 싶은 {usd}달러는 환율 {won}으로 계산하면, {exchange}원입니다.')"
      ],
      "metadata": {
        "colab": {
          "base_uri": "https://localhost:8080/"
        },
        "id": "Yk9tWCvkvsq0",
        "outputId": "7c4828a1-4cea-4482-b48d-938ed1f07e43"
      },
      "execution_count": null,
      "outputs": [
        {
          "output_type": "stream",
          "name": "stdout",
          "text": [
            "환전할 달러를 입력: 500\n",
            "달러의 환율금액 입력 (231031: 1372원)1372\n",
            "환전하고 싶은 500달러는 환율 1372으로 계산하면, 686000원입니다.\n"
          ]
        }
      ]
    },
    {
      "cell_type": "markdown",
      "source": [
        "3. 화씨를 섭씨로 섭씨를 화씨로 변경하는 코드\n",
        " - 화씨를 섭씨로 ℉ = ℃* 1.8 + 32\n",
        "  - 섭씨를 화씨로 ℃ = (℉ - 32) / 1.8\n",
        "  - 변수 : 화씨 fahrenheit, 섭씨 celsius\n"
      ],
      "metadata": {
        "id": "UHmoe5bsyHzf"
      }
    },
    {
      "cell_type": "markdown",
      "source": [
        "코드는 사용자로부터 환전할 달러 금액과 달러의 환율을 입력받아 원화로 환전된 금액을 계산하고 출력하는 예제입니다.\n",
        "\n",
        "usd = int(input(\"환전할 달러를 입력: \")): 사용자로부터 환전할 달러 금액을 입력받아 usd 변수에 정수형으로 저장합니다.\n",
        "won = int(input(\"달러의 환율금액 입력 (231031: 1372원)\")): 사용자로부터 달러의 환율 금액을 입력받아 won 변수에 정수형으로 저장합니다.\n",
        "exchange = won * usd: 달러 금액과 환율을 곱하여 환전 금액을 계산하여 exchange 변수에 저장합니다.\n",
        "print(f'환전하고 싶은 {usd}달러는 환율 {won}으로 계산하면, {exchange}원입니다.'): f-string을 사용하여 환전하고자 하는 달러와 환율, 계산된 환전 금액을 출력합니다."
      ],
      "metadata": {
        "id": "nMBcLMh-2zJ1"
      }
    },
    {
      "cell_type": "code",
      "source": [
        "usd = int(input(\"환전할 달러를 입력: \"))  # 사용자로부터 환전할 달러 금액을 입력받아 usd 변수에 저장합니다.\n",
        "won = int(input(\"달러의 환율금액 입력 (231031: 1372원)\"))  # 사용자로부터 달러의 환율 금액을 입력받아 won 변수에 저장합니다.\n",
        "\n",
        "exchange = won * usd  # 달러 금액과 환율을 곱하여 환전 금액을 계산합니다.\n",
        "\n",
        "print(f'환전하고 싶은 {usd}달러는 환율 {won}으로 계산하면, {exchange}원입니다.')  # 환전하고자 하는 달러와 환율, 계산된 환전 금액을 출력합니다."
      ],
      "metadata": {
        "colab": {
          "base_uri": "https://localhost:8080/"
        },
        "id": "dalf1jWLza_n",
        "outputId": "1d91538f-2c62-490e-dc1c-1a510ada5858"
      },
      "execution_count": null,
      "outputs": [
        {
          "output_type": "stream",
          "name": "stdout",
          "text": [
            "화씨를 입력하시오.: 100\n",
            "37.77777777777778\n"
          ]
        }
      ]
    },
    {
      "cell_type": "code",
      "source": [
        "celsius = float(input(\"섭씨를 입력하시오.: \"))  # 사용자로부터 섭씨 온도를 입력받아 celsius 변수에 저장합니다.\n",
        "fahrenheit = celsius * 1.8 + 32  # 섭씨 온도를 화씨 온도로 변환하여 fahrenheit 변수에 저장합니다.\n",
        "print(fahrenheit)  # 변환된 화씨 온도를 출력합니다."
      ],
      "metadata": {
        "colab": {
          "base_uri": "https://localhost:8080/"
        },
        "id": "kLAJFUMP0Of-",
        "outputId": "2865f0e8-fa70-4ffb-c643-a5f434667c57"
      },
      "execution_count": null,
      "outputs": [
        {
          "output_type": "stream",
          "name": "stdout",
          "text": [
            "섭씨를 입력하시오.: 37.77777777777778\n",
            "100.0\n"
          ]
        }
      ]
    },
    {
      "cell_type": "markdown",
      "source": [
        "코드는 사용자로부터 입력받은 섭씨 온도를 화씨 온도로 변환하여 출력하는 예제입니다.\n",
        "\n",
        "celsius = float(input(\"섭씨를 입력하시오.: \")): 사용자로부터 섭씨 온도를 입력받아 celsius 변수에 실수형으로 저장합니다.\n",
        "fahrenheit = celsius * 1.8 + 32: 입력받은 섭씨 온도를 화씨 온도로 변환하여 fahrenheit 변수에 저장합니다. 변환 공식은 섭씨 온도에 1.8을 곱하고 32를 더하는 것입니다.\n",
        "print(fahrenheit): 변환된 화씨 온도를 출력합니다.\n",
        "입력받은 섭씨 온도를 화씨 온도로 변환하여 출력하는 코드입니다. 섭씨와 화씨 온도 간의 변환 공식을 사용하여 변환을 수행합니다."
      ],
      "metadata": {
        "id": "Ue6_AuJO3Ehm"
      }
    }
  ]
}