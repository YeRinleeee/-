{
  "nbformat": 4,
  "nbformat_minor": 0,
  "metadata": {
    "colab": {
      "provenance": [],
      "include_colab_link": true
    },
    "kernelspec": {
      "name": "python3",
      "display_name": "Python 3"
    },
    "language_info": {
      "name": "python"
    }
  },
  "cells": [
    {
      "cell_type": "markdown",
      "metadata": {
        "id": "view-in-github",
        "colab_type": "text"
      },
      "source": [
        "<a href=\"https://colab.research.google.com/github/YeRinleeee/-/blob/main/CTBC_9.ipynb\" target=\"_parent\"><img src=\"https://colab.research.google.com/assets/colab-badge.svg\" alt=\"Open In Colab\"/></a>"
      ]
    },
    {
      "cell_type": "markdown",
      "source": [
        "1. 두가지 이상의 선택, 다방향 선택구조 코딩\n",
        " - 배송료 처리 3가지로 코딩\n",
        " - 변수 : price\n",
        " - 조건 : 10만원 이상 배송비 0, 2만원 이상은 3천원, 2만원 이하면 5천원"
      ],
      "metadata": {
        "id": "zBflDhgArUsb"
      }
    },
    {
      "cell_type": "code",
      "source": [
        "price = int(input(\"구입금액 입력: \"))           # 변수 price 사용자가 정수형 금액입력\n",
        "if price >= 100000:                             # price의 값이 10만원보다 크거나 같으면\n",
        "  shipping_cost = 0                             # 선택1. 배송료(shipping_cost)는 0원\n",
        "else:                                           # 그게 아니면\n",
        "   if price >= 20000:                           # 선택2. price값이 2만원보다 크거나 같으면\n",
        "     shipping_cost= 3000                        # 배송료(shipping_cost)는 3000원\n",
        "   else:                                          # 그것도 아니면\n",
        "    shipping_cost = 5000                          # 선택3. 배송료(shipping_cost)는 5000원\n",
        "print(f'배송료는 {shipping_cost}원 입니다.')    # F-String문자 Format으로 최종 배송료출력"
      ],
      "metadata": {
        "colab": {
          "base_uri": "https://localhost:8080/"
        },
        "id": "azYC1V-esXlt",
        "outputId": "58b2f6d8-6353-4fee-d15d-34835c5a891d"
      },
      "execution_count": null,
      "outputs": [
        {
          "output_type": "stream",
          "name": "stdout",
          "text": [
            "구입금액 입력: 25000\n",
            "배송료는 3000원 입니다.\n"
          ]
        }
      ]
    },
    {
      "cell_type": "markdown",
      "source": [
        "위의 코드는 사용자로부터 구입금액을 입력받아 해당 금액에 따라 배송료를 계산하여 출력하는 예제입니다. 주석을 통해 각 줄의 역할과 출력되는 내용을 설명해드렸습니다."
      ],
      "metadata": {
        "id": "w6o4pqq4vZhr"
      }
    },
    {
      "cell_type": "markdown",
      "source": [
        "2. 반복구조를 이용한 \"환영합니다.\"를 5번 출력하는 코드 작성\n",
        " - 변수 : Welcome\n",
        " - 출력내용 : 환영합니다.를 세로로 5번, 10번, 30번\n"
      ],
      "metadata": {
        "id": "U19rnIJeylx8"
      }
    },
    {
      "cell_type": "code",
      "source": [
        "print(\"환영합니다.\")  # \"환영합니다.\"를 출력합니다.\n",
        "print(\"환영합니다.\")  # \"환영합니다.\"를 출력합니다.\n",
        "print(\"환영합니다.\")  # \"환영합니다.\"를 출력합니다.\n",
        "print(\"환영합니다.\")  # \"환영합니다.\"를 출력합니다.\n",
        "print(\"환영합니다.\")  # \"환영합니다.\"를 출력합니다."
      ],
      "metadata": {
        "colab": {
          "base_uri": "https://localhost:8080/"
        },
        "id": "W31dPEi3y9EM",
        "outputId": "3731236c-364e-4584-9c47-fa2285ad4327"
      },
      "execution_count": null,
      "outputs": [
        {
          "output_type": "stream",
          "name": "stdout",
          "text": [
            "환영합니다.\n",
            "환영합니다.\n",
            "환영합니다.\n",
            "환영합니다.\n",
            "환영합니다.\n"
          ]
        }
      ]
    },
    {
      "cell_type": "markdown",
      "source": [
        "위의 코드는 \"환영합니다.\"를 5번 출력하는 예제입니다. 주석을 통해 각 줄의 역할을 설명해드렸습니다."
      ],
      "metadata": {
        "id": "C9cD3ircvkFb"
      }
    },
    {
      "cell_type": "code",
      "source": [
        "print(\"환영합니다.\\n\" * 5)  # \"환영합니다.\"를 5번 출력하고, 각 줄마다 줄바꿈 문자(\\n)을 추가하여 출력합니다."
      ],
      "metadata": {
        "colab": {
          "base_uri": "https://localhost:8080/"
        },
        "id": "zP2U6eQPzHFY",
        "outputId": "aac7e115-034e-4e61-fb63-f46ce993ea42"
      },
      "execution_count": null,
      "outputs": [
        {
          "output_type": "stream",
          "name": "stdout",
          "text": [
            "환영합니다.\n",
            "환영합니다.\n",
            "환영합니다.\n",
            "환영합니다.\n",
            "환영합니다.\n",
            "\n"
          ]
        }
      ]
    },
    {
      "cell_type": "markdown",
      "source": [
        "위의 코드는 \"환영합니다.\"를 5번 출력하고, 각 줄마다 줄바꿈 문자를 추가하여 출력하는 예제입니다. 주석을 통해 코드의 역할을 설명해드렸습니다."
      ],
      "metadata": {
        "id": "GJw-__mSvvGi"
      }
    },
    {
      "cell_type": "code",
      "source": [
        "count = 1  # 변수 count를 1로 초기화합니다.\n",
        "\n",
        "while count <= 5:  # count가 5 이하인 동안 반복합니다.\n",
        "   print(\"(\", count, \")\", \"환영합니다.\")  # \"(count) 환영합니다.\"를 출력합니다. count는 현재 반복 횟수를 나타냅니다.\n",
        "   count = count + 1  # count를 1 증가시킵니다."
      ],
      "metadata": {
        "colab": {
          "base_uri": "https://localhost:8080/"
        },
        "id": "1G5cfW78znkk",
        "outputId": "52fd30b7-b25c-480b-9d5a-aeb97ca99aa4"
      },
      "execution_count": null,
      "outputs": [
        {
          "output_type": "stream",
          "name": "stdout",
          "text": [
            "( 1 ) 환영합니다.\n",
            "( 2 ) 환영합니다.\n",
            "( 3 ) 환영합니다.\n",
            "( 4 ) 환영합니다.\n",
            "( 5 ) 환영합니다.\n"
          ]
        }
      ]
    },
    {
      "cell_type": "markdown",
      "source": [
        "위의 코드는 반복문을 사용하여 \"(count) 환영합니다.\"를 5번 출력하는 예제입니다. 주석을 통해 각 줄의 역할을 설명해드렸습니다."
      ],
      "metadata": {
        "id": "IkOwfM-Bv7OS"
      }
    },
    {
      "cell_type": "markdown",
      "source": [
        "3. 0부터 9까지 출력하는 코드 작성\n",
        " - 변수 : x\n"
      ],
      "metadata": {
        "id": "_j7WbLFY1gwo"
      }
    },
    {
      "cell_type": "code",
      "source": [
        "x = 0  # 변수 x를 0으로 초기화합니다.\n",
        "\n",
        "while x < 10:  # x가 10보다 작은 동안 반복합니다.\n",
        "  #print(x)  # 주석 처리된 부분입니다. x의 값을 출력합니다.\n",
        "  print(x, end=' ')  # x의 값을 출력하고, 출력 후에 줄바꿈 대신 공백을 사용합니다.\n",
        "  x = x + 1  # x를 1 증가시킵니다."
      ],
      "metadata": {
        "colab": {
          "base_uri": "https://localhost:8080/"
        },
        "id": "9ksGbIU61nYd",
        "outputId": "7f509add-0147-4ee4-d03e-43f519decc0a"
      },
      "execution_count": null,
      "outputs": [
        {
          "output_type": "stream",
          "name": "stdout",
          "text": [
            "0 1 2 3 4 5 6 7 8 9 "
          ]
        }
      ]
    },
    {
      "cell_type": "markdown",
      "source": [
        "위의 코드는 반복문을 사용하여 0부터 9까지의 숫자를 출력하는 예제입니다. 주석을 통해 각 줄의 역할을 설명해드렸습니다. 주석 처리된 부분은 현재는 출력되지 않습니다."
      ],
      "metadata": {
        "id": "UEFDXJ9ewWI6"
      }
    },
    {
      "cell_type": "markdown",
      "source": [
        "4. 1부터 10까지 합산하는 코드 작성"
      ],
      "metadata": {
        "id": "TjuGU8vN3EFr"
      }
    },
    {
      "cell_type": "code",
      "source": [
        "x = 1  # 변수 x를 1로 초기화합니다.\n",
        "total = 0  # 변수 total을 0으로 초기화합니다.\n",
        "\n",
        "while x <= 10:  # x가 10 이하인 동안 반복합니다.\n",
        "  total += x  # total에 x를 더한 값을 total에 할당합니다. total = total + x와 동일한 의미입니다.\n",
        "  #total = total + x  # 주석 처리된 부분입니다. total에 x를 더한 값을 total에 할당합니다.\n",
        "  #x = x + 1  # 주석 처리"
      ],
      "metadata": {
        "colab": {
          "base_uri": "https://localhost:8080/"
        },
        "id": "-wG2Kc6Y3Ku7",
        "outputId": "30901762-8f76-4328-8f45-dfcb6ef5d77e"
      },
      "execution_count": null,
      "outputs": [
        {
          "output_type": "stream",
          "name": "stdout",
          "text": [
            "55\n"
          ]
        }
      ]
    },
    {
      "cell_type": "markdown",
      "source": [
        "위의 코드는 반복문을 사용하여 1부터 10까지의 숫자를 더한 뒤, 그 합인 total을 출력하는 예제입니다. 주석을 통해 각 줄의 역할을 설명해드렸습니다. 주석 처리된 부분은 현재는 실행되지 않습니다."
      ],
      "metadata": {
        "id": "iKrrkZ9mwhIC"
      }
    },
    {
      "cell_type": "markdown",
      "source": [],
      "metadata": {
        "id": "3FgRD_a5btF6"
      }
    },
    {
      "cell_type": "markdown",
      "source": [
        "5. 3-6-9 게임 : (3의 배수 판단): 3의 배수를 3으로 나누면 나머지가 0이 되므로 (i mod 3)의 값이 0이면 박수를 출력, 아니면 숫자 출력하는 코드"
      ],
      "metadata": {
        "id": "nno05B9K4NgD"
      }
    },
    {
      "cell_type": "code",
      "source": [
        "for num in range(1, 21): # 1부터 20까지의 숫자를 반복하면서 각 숫자에 대한 처리를 수행합니다.\n",
        "   if num % 3 == 0:  # 만약 현재 숫자가 3의 배수인 경우,\n",
        "        print(\"박수\", end=' ')  # \"박수\"라는 문자열을 출력합니다. end=' '는 줄바꿈 없이 공백으로 구분하여 출력하도록 설정합니다.\n",
        "    else:   # 3의 배수가 아닌 경우,\n",
        "        print(num, end=' ')        # 해당 숫자를 출력합니다. end=' '는 줄바꿈 없이 공백으로 구분하여 출력하도록 설정합니다."
      ],
      "metadata": {
        "colab": {
          "base_uri": "https://localhost:8080/"
        },
        "id": "0tejFNWy4pjw",
        "outputId": "52a9467c-454c-409d-e43e-aa97664a2eaf"
      },
      "execution_count": null,
      "outputs": [
        {
          "output_type": "stream",
          "name": "stdout",
          "text": [
            "1 2 박수 4 5 박수 7 8 박수 10 11 박수 13 14 박수 16 17 박수 19 20 "
          ]
        }
      ]
    },
    {
      "cell_type": "markdown",
      "source": [
        "이 코드는 1부터 20까지의 숫자를 반복하면서, 각 숫자에 대해 3의 배수인지를 확인하여 출력합니다. 3의 배수인 경우 \"박수\"라는 문자열을 출력하고, 3의 배수가 아닌 경우 해당 숫자를 출력합니다. 이를 위해 for 문과 if-else 문을 사용하여 처리하였습니다. end=' '를 사용하여 출력 시 줄바꿈 없이 공백으로 구분하여 출력하였습니다."
      ],
      "metadata": {
        "id": "22qhpAaZJjX3"
      }
    },
    {
      "cell_type": "code",
      "source": [
        "num = 1 # num 변수를 1로 초기화합니다.\n",
        "while num <= 20: # num이 20 이하인 동안 반복합니다.\n",
        "    if num % 3 == 0:     # 만약 현재 숫자가 3의 배수인 경우,\n",
        "        print(\"박수\", end=' ')   # \"박수\"라는 문자열을 출력합니다. end=' '는 줄바꿈 없이 공백으로 구분하여 출력하도록 설정합니다.\n",
        "    else:   # 3의 배수가 아닌 경우,\n",
        "        print(num, end=' ')       # 해당 숫자를 출력합니다. end=' '는 줄바꿈 없이 공백으로 구분하여 출력하도록 설정합니다.\n",
        "    num += 1     # num 변수를 1씩 증가시킵니다."
      ],
      "metadata": {
        "colab": {
          "base_uri": "https://localhost:8080/"
        },
        "id": "fDYVmWML5R8y",
        "outputId": "3231142d-2a76-4f4e-91f0-4df3fdeb0155"
      },
      "execution_count": null,
      "outputs": [
        {
          "output_type": "stream",
          "name": "stdout",
          "text": [
            "1 2 박수 4 5 박수 7 8 박수 10 11 박수 13 14 박수 16 17 박수 19 20 "
          ]
        }
      ]
    },
    {
      "cell_type": "markdown",
      "source": [
        "이 코드는 while 문을 사용하여 num 변수를 1로 초기화하고, num이 20 이하인 동안 반복합니다. 각 숫자에 대해 3의 배수인지를 확인하여 출력합니다. 3의 배수인 경우 \"박수\"라는 문자열을 출력하고, 3의 배수가 아닌 경우 해당 숫자를 출력합니다. 이를 위해 if-else 문을 사용하여 처리하였습니다. end=' '를 사용하여 출력 시 줄바꿈 없이 공백으로 구분하여 출력하였습니다. 마지막으로 num 변수를 1씩 증가시켜 다음 숫자를 처리하도록 하였습니다."
      ],
      "metadata": {
        "id": "jjOLczRIKKm_"
      }
    },
    {
      "cell_type": "markdown",
      "source": [
        "6. 팩토리얼 계산하는 코드 작성\n",
        " - 1! = 1, 2! = 2(1), 3!=3(2)(1)=6"
      ],
      "metadata": {
        "id": "GNVUghNPbwiZ"
      }
    },
    {
      "cell_type": "code",
      "source": [
        "i = 5 # i 변수를 5로 초기화합니다.\n",
        "factorial = 1 # factorial 변수를 1로 초기화합니다.\n",
        "while i >= 1: # i가 1 이상인 동안 반복합니다.\n",
        "    factorial *= i  # factorial에 i 값을 곱하여 factorial 값을 갱신합니다."
      ],
      "metadata": {
        "colab": {
          "base_uri": "https://localhost:8080/"
        },
        "id": "P9rbMkb8cV8s",
        "outputId": "c2419b86-ab91-4314-afb3-9a50d3a08734"
      },
      "execution_count": null,
      "outputs": [
        {
          "output_type": "stream",
          "name": "stdout",
          "text": [
            "120\n"
          ]
        }
      ]
    },
    {
      "cell_type": "markdown",
      "source": [
        "이 코드는 while 문을 사용하여 i 변수를 5로 초기화하고, i가 1 이상인 동안 반복합니다. 각 반복마다 factorial 변수에 i 값을 곱하여 factorial 값을 갱신합니다. 그리고 i 값을 1씩 감소시킵니다. 이를 통해 5부터 1까지의 숫자의 팩토리얼 값을 계산합니다. 마지막으로, 최종적인 팩토리얼 값을 출력합니다."
      ],
      "metadata": {
        "id": "S9gF538xKhc-"
      }
    },
    {
      "cell_type": "code",
      "source": [
        "num = int(input(\"팩토리얼을 계산할 숫자를 입력하시오.: \")) # 계산할 숫자를 입력받습니다.\n",
        "factorial = 1 # 초기값으로 1을 설정합니다.\n",
        "# 팩토리얼 계산을 위한 반복문인 while 입니다.\n",
        "while num >= 1:                 # num값이 1보다 크거나 같을 때 하위 문장(코드)를 진행\n",
        "    factorial = factorial * num # 현재 num값을 factorial값에 곱해줍니다.\n",
        "    num -= 1                    # num값을 1식 감소시킵니다.\n",
        "\n",
        "print(f'계산된 팩토리얼 값은 {factorial} 입니다.')"
      ],
      "metadata": {
        "colab": {
          "base_uri": "https://localhost:8080/"
        },
        "id": "-vo4UJ3tconD",
        "outputId": "5657c1e3-5965-47e0-a810-e3f3a7dabc88"
      },
      "execution_count": null,
      "outputs": [
        {
          "output_type": "stream",
          "name": "stdout",
          "text": [
            "팩토리얼을 계산할 숫자를 입력하시오.: 5\n",
            "계산된 팩토리얼 값은 120 입니다.\n"
          ]
        }
      ]
    },
    {
      "cell_type": "markdown",
      "source": [
        "이 코드는 input() 함수를 사용하여 사용자로부터 숫자를 입력받고, 이를 num 변수에 저장합니다. 그 후, 초기값으로 factorial 변수를 1로 설정합니다. 이후 while 문을 사용하여 num 값이 1보다 크거나 같을 동안 반복합니다. 각 반복마다 factorial 변수에 현재 num 값을 곱해줍니다. 그리고 num 값을 1씩 감소시킵니다. 이를 통해 입력받은 숫자의 팩토리얼 값을 계산합니다. 마지막으로, 계산된 팩토리얼 값을 문자열 포맷팅을 활용하여 출력합니다."
      ],
      "metadata": {
        "id": "iBztkx3gK6nH"
      }
    },
    {
      "cell_type": "markdown",
      "source": [
        "7. 구구단 출력해주는 코드 작성\n",
        " - 변수 : dan\n",
        "  - 반복문(1) : for문 사용\n",
        "   - 반복문(2) : while문 사용\n",
        "   "
      ],
      "metadata": {
        "id": "H95-4by5e6j7"
      }
    },
    {
      "cell_type": "code",
      "source": [
        "# for문 사용\n",
        "dan = int(input(\"구구단에서 몇 단을 출력할까요?: \")) # 구구단에서 몇 단을 출력할지 사용자로부터 숫자를 입력받습니다.\n",
        "for i in range(1, 10): # 1부터 9까지 반복하면서 구구단을 출력하는 반복문입니다.\n",
        "    print(dan, \"x\", i, \"=\", dan * i)   # 구구단의 계산식을 출력합니다. dan에 i를 곱한 값을 출력합니다."
      ],
      "metadata": {
        "colab": {
          "base_uri": "https://localhost:8080/"
        },
        "id": "G33sGDg1fO-q",
        "outputId": "ca893896-1aa2-458b-fcc4-c307a76cb957"
      },
      "execution_count": null,
      "outputs": [
        {
          "output_type": "stream",
          "name": "stdout",
          "text": [
            "구구단에서 몇단을 출력할까요.: 4\n",
            "4 x 1 = 4\n",
            "4 x 2 = 8\n",
            "4 x 3 = 12\n",
            "4 x 4 = 16\n",
            "4 x 5 = 20\n",
            "4 x 6 = 24\n",
            "4 x 7 = 28\n",
            "4 x 8 = 32\n",
            "4 x 9 = 36\n"
          ]
        }
      ]
    },
    {
      "cell_type": "markdown",
      "source": [
        "이 코드는 input() 함수를 사용하여 사용자로부터 구구단에서 몇 단을 출력할지 숫자를 입력받고, 이를 dan 변수에 저장합니다. 이후 for 문을 사용하여 1부터 9까지의 숫자를 반복하면서 구구단을 출력합니다. 각 반복마다 구구단의 계산식을 출력하는데, dan에 i를 곱한 값을 출력합니다. 예를 들어, 2를 입력받았을 경우 2단을 출력하게 됩니다. 출력 결과는 \"2 x 1 = 2\", \"2 x 2 = 4\", ..., \"2 x 9 = 18\"과 같이 구구단 계산식이 출력됩니다."
      ],
      "metadata": {
        "id": "PK2plaRzLXH2"
      }
    },
    {
      "cell_type": "code",
      "source": [
        "# while문 사용\n",
        "dan = int(input(\"구구단에서 몇 단을 출력할래?: \")) # 구구단에서 몇 단을 출력할지 사용자로부터 숫자를 입력받습니다.\n",
        "i = 1 # 초기값으로 i 변수를 1로 설정합니다.\n",
        "while i <= 9: # i가 9 이하인 동안 반복하는 while 문입니다.\n",
        "    print(dan, \"x\", i, \"=\", dan * i)  # 구구단의 계산식을 출력합니다. dan에 i를 곱한 값을 출력합니다.\n",
        "    i += 1     # i 값을 1 증가시킵니다."
      ],
      "metadata": {
        "colab": {
          "base_uri": "https://localhost:8080/"
        },
        "id": "7exC1J4Rf3AR",
        "outputId": "15db4111-1103-4897-a47c-4d637f69c977"
      },
      "execution_count": null,
      "outputs": [
        {
          "output_type": "stream",
          "name": "stdout",
          "text": [
            "구구단에서 몇단을 출력할래?: 4\n",
            "4 x 1 = 4\n",
            "4 x 2 = 8\n",
            "4 x 3 = 12\n",
            "4 x 4 = 16\n",
            "4 x 5 = 20\n",
            "4 x 6 = 24\n",
            "4 x 7 = 28\n",
            "4 x 8 = 32\n",
            "4 x 9 = 36\n"
          ]
        }
      ]
    },
    {
      "cell_type": "markdown",
      "source": [
        "이 코드는 input() 함수를 사용하여 사용자로부터 구구단에서 몇 단을 출력할지 숫자를 입력받고, 이를 dan 변수에 저장합니다. 이후 while 문을 사용하여 i 값이 9 이하인 동안 반복합니다. 각 반복마다 구구단의 계산식을 출력하는데, dan에 i를 곱한 값을 출력합니다. 예를 들어, 2를 입력받았을 경우 2단을 출력하게 됩니다. 출력 결과는 \"2 x 1 = 2\", \"2 x 2 = 4\", ..., \"2 x 9 = 18\"과 같이 구구단 계산식이 출력됩니다. i 값을 1씩 증가시키면서 반복이 진행됩니다."
      ],
      "metadata": {
        "id": "-P0UhVm7L0Cu"
      }
    }
  ]
}