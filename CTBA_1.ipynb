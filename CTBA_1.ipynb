{
  "nbformat": 4,
  "nbformat_minor": 0,
  "metadata": {
    "colab": {
      "provenance": [],
      "include_colab_link": true
    },
    "kernelspec": {
      "name": "python3",
      "display_name": "Python 3"
    },
    "language_info": {
      "name": "python"
    }
  },
  "cells": [
    {
      "cell_type": "markdown",
      "metadata": {
        "id": "view-in-github",
        "colab_type": "text"
      },
      "source": [
        "<a href=\"https://colab.research.google.com/github/YeRinleeee/-/blob/main/CTBA_1.ipynb\" target=\"_parent\"><img src=\"https://colab.research.google.com/assets/colab-badge.svg\" alt=\"Open In Colab\"/></a>"
      ]
    },
    {
      "cell_type": "code",
      "source": [],
      "metadata": {
        "id": "0-Z-VzpNcfM5"
      },
      "execution_count": null,
      "outputs": []
    },
    {
      "cell_type": "markdown",
      "source": [
        "1. 쇼핑몰의 배송료를 계산하는 코드작성\n",
        " - 사용하는 변수 : price, shipping_cost"
      ],
      "metadata": {
        "id": "UfigACZUcfhw"
      }
    },
    {
      "cell_type": "code",
      "source": [
        "print(\"상품의 가격을 입력하시오.\") # 사용자로부터 상품의 가격을 입력받습니다.\n",
        "price = int(input(\"구입금액을 입력: \")) # 입력받은 가격을 정수형으로 변환하여 변수에 저장합니다.\n",
        "if price > 20000:  # 가격에 따라 배송비를 계산하는 조건문입니다.\n",
        "    shipping_cost = 0\n",
        "    print(f'구입금액이 2만원 이상입니다.')  # 가격이 2만원 이상인 경우 \"구입금액이 2만원 이상입니다.\" 메시지를 출력합니다.\n",
        "else:\n",
        "    shipping_cost = 3000\n",
        "    print(f'구입금액이 2만원 이하입니다.')     # 가격이 2만원 이하인 경우 \"구입금액이 2만원 이하입니다.\" 메시지를 출력합니다.\n",
        "print(f'회원님의 배송비는 {shipping_cost}원 입니다.') # 회원님의 배송비를 출력합니다."
      ],
      "metadata": {
        "colab": {
          "base_uri": "https://localhost:8080/"
        },
        "id": "GVoK_xpvcxbd",
        "outputId": "96dccf7e-adcb-4cad-9785-99f77927c014"
      },
      "execution_count": null,
      "outputs": [
        {
          "output_type": "stream",
          "name": "stdout",
          "text": [
            "상품의 가격을 입력하시오.\n",
            "구입금액을 입력: 20001\n",
            "구입금액이 2만원 이상입니다.\n",
            "회원님의 배송비는 0원 입니다.\n"
          ]
        }
      ]
    },
    {
      "cell_type": "markdown",
      "source": [
        "사용자로부터 상품의 가격을 입력받는 부분입니다.\n",
        "if 조건문을 사용하여 가격이 2만원 이상인지 확인합니다.\n",
        "가격이 2만원 이상일 경우, 배송비를 0원으로 설정하고 \"구입금액이 2만원 이상입니다.\"라는 메시지를 출력합니다.\n",
        "가격이 2만원 미만일 경우, 배송비를 3000원으로 설정하고 \"구입금액이 2만원 이하입니다.\"라는 메시지를 출력합니다.\n",
        "최종적으로 회원님의 배송비를 출력합니다.\n",
        "주석은 코드의 이해를 돕기 위해 추가되었습니다. 각 부분의 역할과 의도를 설명하여 코드를 보다 이해하기 쉽게 만들어줍니다."
      ],
      "metadata": {
        "id": "3I8DX6MM94KJ"
      }
    },
    {
      "cell_type": "markdown",
      "source": [
        "2. 학생으로 성적을 입력받아 합격유무를 출력하는 코드\n",
        " - 사용변수:grade"
      ],
      "metadata": {
        "id": "qAGXUcnhgqyt"
      }
    },
    {
      "cell_type": "code",
      "source": [
        "print(\"성적을 입력하시오.\")  # \"성적을 입력하시오.\"를 출력합니다.\n",
        "grade = int(input(\"성적입력: \"))  # 사용자로부터 성적을 입력받고, 입력받은 값을 정수형으로 변환하여 변수 grade에 저장합니다.\n",
        "\n",
        "if grade >= 70:  # 만약 grade가 70 이상이면 아래의 코드 블록을 실행합니다.\n",
        "  print(f'70점 이상이므로 합격입니다.')  # \"70점 이상이므로 합격입니다.\"를 출력합니다.\n",
        "  print(\"축하합니다. 합격입니다.\")  # \"축하합니다. 합격입니다.\"를 출력합니다.\n",
        "else:  # grade가 70 미만인 경우 아래의 코드 블록을 실행합니다.\n",
        "  print(f'70점 이하이므로 불합격입니다.')  # \"70점 이하이므로 불합격입니다.\"를 출력합니다.\n",
        "  print(\"아쉽군요. 다시한번 도전하세요.\")  # \"아쉽군요. 다시한번 도전하세요.\"를 출력합니다."
      ],
      "metadata": {
        "colab": {
          "base_uri": "https://localhost:8080/"
        },
        "id": "nkECeuEGhAcU",
        "outputId": "7e9e383f-6207-4d9b-b2b9-e46099e8269a"
      },
      "execution_count": null,
      "outputs": [
        {
          "output_type": "stream",
          "name": "stdout",
          "text": [
            "성적을 입력하시오.\n",
            "성적입력: 71\n",
            "70점 이상이므로 합격입니다.\n",
            "축하합니다. 합격입니다.\n"
          ]
        }
      ]
    },
    {
      "cell_type": "markdown",
      "source": [
        "위의 코드는 사용자로부터 성적을 입력받아서 그 성적이 70 이상인지를 판별하고, 그에 따라 합격 또는 불합격 메시지를 출력하는 간단한 예제입니다. 주석을 통해 각 줄의 역할과 출력되는 내용을 설명해드렸습니다"
      ],
      "metadata": {
        "id": "HWc-eb3guGKS"
      }
    },
    {
      "cell_type": "markdown",
      "source": [
        "3. 근무시간에 따라 초과근무와 정상근무를 판별하는 코드\n",
        " - work_hour\n",
        " - 코드 work_hour > 72"
      ],
      "metadata": {
        "id": "_JTRSL5Ghu-8"
      }
    },
    {
      "cell_type": "code",
      "source": [
        "print(\"근무시간을 입력하시오.\")  # \"근무시간을 입력하시오.\"를 출력합니다.\n",
        "work_hour = int(input(\"근무시간입력: \"))  # 사용자로부터 근무시간을 입력받고, 입력받은 값을 정수형으로 변환하여 변수 work_hour에 저장합니다.\n",
        "\n",
        "if work_hour > 72:  # 만약 work_hour가 72를 초과하면 아래의 코드 블록을 실행합니다.\n",
        "  print(\"―\"*19)  # \"―\" 문자를 19번 반복하여 출력합니다.\n",
        "  print(f'초과근무입니다. #')  # \"초과근무입니다. #\"를 출력합니다.\n",
        "  print(\"―\"*19)  # \"―\" 문자를 19번 반복하여 출력합니다.\n",
        "else:  # work_hour가 72 이하인 경우 아래의 코드 블록을 실행합니다.\n",
        "  print(\"#\"*19)  # \"#\" 문자를 19번 반복하여 출력합니다.\n",
        "  print(f'정산근무입니다. #')  # \"정산근무입니다. #\"를 출력합니다.\n",
        "  print(\"#\"*19)  # \"#\" 문자를 19번 반복하여 출력합니다."
      ],
      "metadata": {
        "colab": {
          "base_uri": "https://localhost:8080/"
        },
        "id": "ykoYPYeWiJGL",
        "outputId": "50fa7883-ca32-4eff-dbf6-67211bc1af21"
      },
      "execution_count": null,
      "outputs": [
        {
          "output_type": "stream",
          "name": "stdout",
          "text": [
            "근무시간을 입력하시오.\n",
            "근무시간입력: 73\n",
            "―――――――――――――――――――\n",
            "초과근무입니다. #\n",
            "―――――――――――――――――――\n"
          ]
        }
      ]
    },
    {
      "cell_type": "markdown",
      "source": [
        "위의 코드는 사용자로부터 근무시간을 입력받아 근무시간이 72를 초과하는지를 판별하고, 그에 따라 초과근무 또는 정산근무 메시지를 출력하는 예제입니다. 주석을 통해 각 줄의 역할과 출력되는 내용을 설명해드렸습니다."
      ],
      "metadata": {
        "id": "K57NKe8ouXQU"
      }
    },
    {
      "cell_type": "markdown",
      "source": [
        "4. 짝수와 홀수를 판별하는 코드\n",
        "- 사용변수 :_num_\n",
        "- 수식 : (x % 2) != 0:\n"
      ],
      "metadata": {
        "id": "yov0BI7bl4Vm"
      }
    },
    {
      "cell_type": "code",
      "source": [
        "python\n",
        "print('정수를 입력하시오.')  # \"정수를 입력하시오.\"를 출력합니다.\n",
        "_num_ = int(input(\"정수 입력\"))  # 사용자로부터 정수를 입력받고, 입력받은 값을 정수형으로 변환하여 변수 _num_에 저장합니다.\n",
        "\n",
        "if (_num_ % 2) != 0:  # 만약 _num_을 2로 나눈 나머지가 0이 아니라면(홀수라면) 아래의 코드 블록을 실행합니다.\n",
        "  print(f'입력하신 {_num_}은 홀수입니다.')  # \"입력하신 _num_은 홀수입니다.\"를 출력합니다.\n",
        "else:  # _num_을 2로 나눈 나머지가 0인 경우(짝수인 경우) 아래의 코드 블록을 실행합니다.\n",
        "  print(f'입력하신 {_num_}은 짝수입니다.')  # \"입력하신 _num_은 짝수입니다.\"를 출력합니다."
      ],
      "metadata": {
        "id": "_DypTGdumXps"
      },
      "execution_count": null,
      "outputs": []
    },
    {
      "cell_type": "markdown",
      "source": [
        "위의 코드는 사용자로부터 정수를 입력받아 입력된 정수가 홀수인지 짝수인지 판별하여 출력하는 예제입니다. 주석을 통해 각 줄의 역할과 출력되는 내용을 설명해드렸습니다."
      ],
      "metadata": {
        "id": "cnRska8luk7y"
      }
    },
    {
      "cell_type": "markdown",
      "source": [
        "5. 사용자의 이름과 나이를 물어보고, 답변하는 코드\n",
        " - 사용변수: name, age\n",
        " - 출력할 내용 :\n",
        " - 성명\n",
        " - 나이 : 20\n",
        " - (1) 20이하: 프로그래밍을 배우는 최적의 나이입니다.\n",
        " - (2) 20이상: 아직도 늦지 않았습니다."
      ],
      "metadata": {
        "id": "uRisrQGLnF-s"
      }
    },
    {
      "cell_type": "code",
      "source": [
        "print('이름과 나이를 입력하시오.')  # \"이름과 나이를 입력하시오.\"를 출력합니다.\n",
        "name = input(\"이름\")  # 사용자로부터 이름을 입력받아 변수 name에 저장합니다.\n",
        "age = int(input(\"나이\"))  # 사용자로부터 나이를 입력받고, 입력받은 값을 정수형으로 변환하여 변수 age에 저장합니다.\n",
        "\n",
        "if age >= 20:  # 만약 age가 20 이상이면 아래의 코드 블록을 실행합니다.\n",
        "  print(f'프로그래밍을 배우는 최적의 나이입니다.')  # \"프로그래밍을 배우는 최적의 나이입니다.\"를 출력합니다.\n",
        "else:  # age가 20 미만인 경우 아래의 코드 블록을 실행합니다.\n",
        "  print(f'아직도 늦지 않았습니다.')  # \"아직도 늦지 않았습니다.\"를 출력합니다."
      ],
      "metadata": {
        "colab": {
          "base_uri": "https://localhost:8080/"
        },
        "id": "k8rH5p1vn3sP",
        "outputId": "75283f38-ad3f-4434-c0ce-d3f38969c1ff"
      },
      "execution_count": null,
      "outputs": [
        {
          "output_type": "stream",
          "name": "stdout",
          "text": [
            "이름과 나이를 입력하시오.\n",
            "이름이예린\n",
            "나이20\n",
            "프로그래밍을 배우는 최적의 나이입니다.\n"
          ]
        }
      ]
    },
    {
      "cell_type": "markdown",
      "source": [
        "위의 코드는 사용자로부터 이름과 나이를 입력받아 나이가 20 이상인지를 판별하여 해당 메시지를 출력하는 예제입니다. 주석을 통해 각 줄의 역할과 출력되는 내용을 설명해드렸습니다"
      ],
      "metadata": {
        "id": "K9aMVsCsuwfC"
      }
    }
  ]
}