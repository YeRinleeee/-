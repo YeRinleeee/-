{
  "nbformat": 4,
  "nbformat_minor": 0,
  "metadata": {
    "colab": {
      "provenance": [],
      "authorship_tag": "ABX9TyMJ+Ri2e7MkvIwmKWWQNQWI",
      "include_colab_link": true
    },
    "kernelspec": {
      "name": "python3",
      "display_name": "Python 3"
    },
    "language_info": {
      "name": "python"
    }
  },
  "cells": [
    {
      "cell_type": "markdown",
      "metadata": {
        "id": "view-in-github",
        "colab_type": "text"
      },
      "source": [
        "<a href=\"https://colab.research.google.com/github/YeRinleeee/-/blob/main/Hello_py.ipynb\" target=\"_parent\"><img src=\"https://colab.research.google.com/assets/colab-badge.svg\" alt=\"Open In Colab\"/></a>"
      ]
    },
    {
      "cell_type": "code",
      "execution_count": null,
      "metadata": {
        "id": "KHwUDsepR-Jf"
      },
      "outputs": [],
      "source": [
        "Python 3.12.0 (tags/v3.12.0:0fb18b0, Oct  2 2023, 13:03:39) [MSC v.1935 64 bit (AMD64)] on win32\n",
        "Type \"help\", \"copyright\", \"credits\" or \"license()\" for more information.\n",
        "print(\"Hello World\")  # \"Hello World\"를 출력합니다.\n",
        "Hello World  # \"Hello World\" 문자열을 출력한 결과입니다.\n",
        "\"Hello World\"  # 큰 따옴표로 감싼 \"Hello World\" 문자열입니다.\n",
        "'Hello World'  # 작은 따옴표로 감싼 'Hello World' 문자열입니다.\n",
        "4+4  # 4와 4를 더한 결과값입니다.\n",
        "8  # 4와 4를 더한 결과인 8입니다.\n",
        "Hello World  # 코드로 해석할 수 없는 부분이므로 구문 오류가 발생합니다.\n",
        "SyntaxError: incomplete input\n",
        ""
      ]
    },
    {
      "cell_type": "markdown",
      "source": [
        "위의 줄은 현재 실행되고 있는 Python 버전 정보를 나타냅니다. 이 경우, Python 3.12.0 버전이 사용되고 있으며, 실행 환경은 Windows 32비트입니다. \"Hello World\"를 출력하는 print() 함수를 사용한 코드입니다. print() 함수는 괄호 안에 있는 값을 출력합니다. 따라서 이 코드는 \"Hello World\"를 출력합니다. Hello World라는 문자열을 직접 작성한 코드입니다. Python에서는 문자열을 작은 따옴표(')나 큰 따옴표(\")로 감싸야 합니다. 따라서 이 코드는 구문 오류(SyntaxError)가 발생합니다.  큰 따옴표(\")로 감싼 \"Hello World\"라는 문자열을 작성한 코드입니다. 큰 따옴표로 감싼 문자열은 올바른 표현입니다. 작은 따옴표(')로 감싼 'Hello World'라는 문자열을 작성한 코드입니다. 작은 따옴표로 감싼 문자열도 올바른 표현입니다. 4와 4를 더하는 표현식입니다. 덧셈 연산자(+)를 사용하여 두 개의 숫자를 더하고, 그 결과값을 출력하지 않았으므로 결과값은 출력되지 않습니다. 4와 4를 더한 결과인 8을 직접 작성한 코드입니다. 이 코드는 단순히 숫자 8을 출력하는 것입니다. 코드로 해석할 수 없는 Hello World라는 부분이 포함되어 있어 구문 오류가 발생합니다. Python은 올바른 구문을 가져야 실행할 수 있습니다. 따라서 이 코드는 구문 오류가 발생합니다.\n"
      ],
      "metadata": {
        "id": "1zdCkgEKSDWm"
      }
    }
  ]
}