{
  "nbformat": 4,
  "nbformat_minor": 0,
  "metadata": {
    "colab": {
      "provenance": [],
      "authorship_tag": "ABX9TyP8r5G0PbumEWKskq4/p0Eh",
      "include_colab_link": true
    },
    "kernelspec": {
      "name": "python3",
      "display_name": "Python 3"
    },
    "language_info": {
      "name": "python"
    }
  },
  "cells": [
    {
      "cell_type": "markdown",
      "metadata": {
        "id": "view-in-github",
        "colab_type": "text"
      },
      "source": [
        "<a href=\"https://colab.research.google.com/github/YeRinleeee/-/blob/main/CT_2nd_code.ipynb\" target=\"_parent\"><img src=\"https://colab.research.google.com/assets/colab-badge.svg\" alt=\"Open In Colab\"/></a>"
      ]
    },
    {
      "cell_type": "code",
      "execution_count": null,
      "metadata": {
        "id": "k2sD52Etk5xE"
      },
      "outputs": [],
      "source": []
    },
    {
      "cell_type": "markdown",
      "source": [
        "2. 사용자로부터 3개의 변수를 입력받아서 합을 구하고, 평균을 구하는 코드\n",
        " - 변수는 : n1 , n2 , n3 , total , average"
      ],
      "metadata": {
        "id": "xJ6W3c2XlSF0"
      }
    },
    {
      "cell_type": "markdown",
      "source": [],
      "metadata": {
        "id": "XFvrFOhSmYKe"
      }
    },
    {
      "cell_type": "markdown",
      "source": [],
      "metadata": {
        "id": "IhIOdzAKnmCj"
      }
    },
    {
      "cell_type": "code",
      "source": [
        "n1 = int(input(\"n1의 값을 입력하시오.:\"))     # 사용자로부터 n1의 값을 입력받아 정수로 변환하여 n1 변수에 저장합니다.\n",
        "n2 = int(input(\"n2의 값을 입력하시오.:\"))     # 사용자로부터 n2의 값을 입력받아 정수로 변환하여 n2 변수에 저장합니다.\n",
        "n3 = int(input(\"n3의 값을 입럭하시오.:\"))    # 사용자로부터 n3의 값을 입력받아 정수로 변환하여 n3 변수에 저장합니다.\n",
        "total = n1 + n2 + n3                        # n1, n2, n3의 값을 모두 더하여 total 변수에 저장합니다.\n",
        "print('합계는 :', total)                     # 합계를 출력합니다.\n",
        "average = total / 3                          # total 값을 3으로 나누어 평균을 계산하여 average 변수에 저장합니다.\n",
        "print('평균은 :', average)                    # 평균을 출력합니다."
      ],
      "metadata": {
        "colab": {
          "base_uri": "https://localhost:8080/"
        },
        "id": "2d3o1PZannTu",
        "outputId": "8f45e3ef-3eea-47c4-9c1f-c20154f525b1"
      },
      "execution_count": null,
      "outputs": [
        {
          "output_type": "stream",
          "name": "stdout",
          "text": [
            "n1의 값을 입력하시오.:50\n",
            "n2의 값을 입력하시오.:60\n",
            "n3의 값을 입럭하시오.:70\n",
            "합계는 : 180\n",
            "평균은 : 60.0\n"
          ]
        }
      ]
    },
    {
      "cell_type": "markdown",
      "source": [
        "이 코드는 먼저 input() 함수를 사용하여 사용자로부터 n1, n2, n3의 값을 입력받고, 이를 정수로 변환하여 각각의 변수에 저장합니다. 다음으로, n1, n2, n3의 값을 모두 합하여 total 변수에 저장합니다. 그 후, print() 함수를 사용하여 합계를 출력합니다. 마지막으로, total 값을 3으로 나누어 평균을 계산하여 average 변수에 저장하고, 평균을 출력합니다. 예를 들어, n1에 10, n2에 20, n3에 30을 입력한 경우, 출력 결과는 \"합계는: 60\"과 \"평균은: 20.0\"이 됩니다."
      ],
      "metadata": {
        "id": "u27dffaBPR4e"
      }
    }
  ]
}