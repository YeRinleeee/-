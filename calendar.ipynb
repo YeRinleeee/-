{
  "nbformat": 4,
  "nbformat_minor": 0,
  "metadata": {
    "colab": {
      "provenance": [],
      "authorship_tag": "ABX9TyO5UEBuWDxi8/jxLzDhbV5k",
      "include_colab_link": true
    },
    "kernelspec": {
      "name": "python3",
      "display_name": "Python 3"
    },
    "language_info": {
      "name": "python"
    }
  },
  "cells": [
    {
      "cell_type": "markdown",
      "metadata": {
        "id": "view-in-github",
        "colab_type": "text"
      },
      "source": [
        "<a href=\"https://colab.research.google.com/github/YeRinleeee/-/blob/main/calendar.ipynb\" target=\"_parent\"><img src=\"https://colab.research.google.com/assets/colab-badge.svg\" alt=\"Open In Colab\"/></a>"
      ]
    },
    {
      "cell_type": "code",
      "execution_count": null,
      "metadata": {
        "colab": {
          "base_uri": "https://localhost:8080/"
        },
        "id": "Bry5BijpY4dn",
        "outputId": "77211e98-daa0-4bd3-fb2b-dc6892232532"
      },
      "outputs": [
        {
          "output_type": "stream",
          "name": "stdout",
          "text": [
            "    October 2023\n",
            "Mo Tu We Th Fr Sa Su\n",
            "                   1\n",
            " 2  3  4  5  6  7  8\n",
            " 9 10 11 12 13 14 15\n",
            "16 17 18 19 20 21 22\n",
            "23 24 25 26 27 28 29\n",
            "30 31\n",
            "\n"
          ]
        }
      ],
      "source": [
        "import calendar                    # calendar 모듈을 임포트합니다.\n",
        "yy = 2023                         # 출력할 연도를 변수 yy에 저장합니다.\n",
        "mm = 10                           # 출력할 월을 변수 mm에 저장합니다.\n",
        "print(calendar.month(yy, mm))     # calendar.month() 함수를 사용하여 yy와 mm에 해당하는 달력을 출력합니다."
      ]
    },
    {
      "cell_type": "markdown",
      "source": [
        "이 코드는 calendar 모듈을 임포트한 후, yy 변수에 출력할 연도를, mm 변수에 출력할 월을 저장합니다. 그 후, calendar.month() 함수를 사용하여 yy와 mm에 해당하는 달력을 출력합니다. calendar.month() 함수는 지정된 연도와 월에 해당하는 달력을 문자열 형태로 반환합니다. print() 함수를 사용하여 반환된 달력을 출력합니다. 예를 들어, yy에 2023, mm에 10을 입력한 경우, 출력 결과는 2023년 10월의 달력이 출력됩니다."
      ],
      "metadata": {
        "id": "nh6sBDMbPlg2"
      }
    },
    {
      "cell_type": "markdown",
      "source": [
        "2023년 10월 19일 To Do List\n",
        "- 09:10 ~ 11:00  컴퓨팅적 사고와 기초코딩\n",
        "- 11:10 ~ 12:00  아동건강교육\n",
        "- 12:10 ~ 13:00  점심식사\n",
        "- 13:00 ~ 16:00  수면\n",
        "- 16:30 ~ 17:40  저녁식사\n",
        "- 18:00 ~ 24:00  중간고사 공부\n",
        "- 00:00 ~ 00:30  휴식\n",
        "- 00:30 ~ 03:00  중간고사 공부\n"
      ],
      "metadata": {
        "id": "-CtoxJzKasaR"
      }
    },
    {
      "cell_type": "code",
      "source": [
        "print(\"2023년 10월 19일 To Do List\")       # \"2023년 10월 19일 To Do List\"를 출력합니다.\n",
        "print(\"09:10 ~ 11:00 컴퓨팅적 사고와 기초코딩\")   # \"09:10 ~ 11:00 컴퓨팅적 사고와 기초코딩\"을 출력합니다.\n",
        "print(\"11:10 ~ 12:00 아동건강교육\")           # \"11:10 ~ 12:00 아동건강교육\"을 출력합니다.\n",
        "print(\"12:10 ~ 13:00 점심식사\")              # \"12:10 ~ 13:00 점심식사\"을 출력합니다.\n",
        "print(\"13:00 ~ 16:00 수면\")                 # \"13:00 ~ 16:00 수면\"을 출력합니다.\n",
        "print(\"16:30 ~ 17:40 저녁식사\")              # \"16:30 ~ 17:40 저녁식사\"을 출력합니다.\n",
        "print(\"18:00 ~ 24:00 중간고사 공부\")          # \"18:00 ~ 24:00 중간고사 공부\"을 출력합니다.\n",
        "print(\"00:00 ~ 00:30 휴식\")                 # \"00:00 ~ 00:30 휴식\"을 출력합니다.\n",
        "print(\"00:30 ~ 03:00 중간고사 공부\")          # \"00:30 ~ 03:00 중간고사 공부\"을 출력합니다."
      ],
      "metadata": {
        "colab": {
          "base_uri": "https://localhost:8080/"
        },
        "id": "75xBq4utcBwY",
        "outputId": "3848c162-ad27-4e9e-a8a6-29308dff54db"
      },
      "execution_count": null,
      "outputs": [
        {
          "output_type": "stream",
          "name": "stdout",
          "text": [
            "2023년 10월 19일 To Do List\n",
            "09:10 ~ 11:00 컴퓨팅적 사고와 기초코딩\n",
            "11:10 ~ 12:00 아동건강교육\n",
            "12:10 ~ 13:00 점심식사\n",
            "13:00 ~ 16:00 수면\n",
            "16:30 ~ 17:40 저녁식사\n",
            "18:00 ~ 24:00 중간고사 공부\n",
            "00:00 ~ 00:30 휴식\n",
            "00:30 ~ 03:00 중간고사 공부\n"
          ]
        }
      ]
    },
    {
      "cell_type": "markdown",
      "source": [
        "이 코드는 미리 정해진 일정을 출력하는 기능을 가지고 있습니다. 각 줄마다 print() 함수를 사용하여 해당 일정을 출력합니다. 예를 들어, 2023년 10월 19일의 To Do List를 위한 일정을 출력하는 경우, 해당 일정이 시간대별로 출력됩니다. 이를 통해 해당 날짜의 일정을 한눈에 확인할 수 있습니다."
      ],
      "metadata": {
        "id": "oj6oGA27PxL9"
      }
    }
  ]
}